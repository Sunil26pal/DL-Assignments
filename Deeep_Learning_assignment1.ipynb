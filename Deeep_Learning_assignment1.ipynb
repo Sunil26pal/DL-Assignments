{
  "nbformat": 4,
  "nbformat_minor": 0,
  "metadata": {
    "colab": {
      "provenance": []
    },
    "kernelspec": {
      "name": "python3",
      "display_name": "Python 3"
    },
    "language_info": {
      "name": "python"
    }
  },
  "cells": [
    {
      "cell_type": "code",
      "execution_count": null,
      "metadata": {
        "id": "kQLFSEdBFdfq"
      },
      "outputs": [],
      "source": []
    },
    {
      "cell_type": "markdown",
      "source": [
        "1. What is the function of a summation junction of a neuron? What is threshold activation\n",
        "function?\n",
        "\n",
        "\n",
        "ans.The summation junction of a neuron is a linear combiner that adds up the weighted inputs to the neuron. The threshold activation function then takes the output of the summation junction and applies a threshold to it. If the sum of the weighted inputs is greater than or equal to the threshold, the threshold activation function will output 1. Otherwise, it will output 0."
      ],
      "metadata": {
        "id": "I2BglIQDFfnu"
      }
    },
    {
      "cell_type": "markdown",
      "source": [
        "2. What is a step function? What is the difference of step function with threshold function?\n",
        "\n",
        "ans.A step function is a simple activation function that outputs a binary value (0 or 1) based on whether the input is greater than or equal to a threshold value. It's like a digital switch- if the input crosses a threshold, the output changes from 0 to 1.\n",
        "The key difference between a step function and a threshold function is that the threshold function is more flexible, allowing gradual changes in output as the input varies, rather than an abrupt change like the step function."
      ],
      "metadata": {
        "id": "0XlMgoBBFf_A"
      }
    },
    {
      "cell_type": "markdown",
      "source": [
        "3. Explain the McCulloch–Pitts model of neuron.\n",
        "\n",
        "Ans.The McCulloch–Pitts model of neuron is a simple model of a biological neuron. It consists of a summation junction and a threshold activation function. The summation junction adds up the weighted inputs to the neuron, and the threshold activation function outputs 1 if the sum is greater than or equal to a threshold value, and 0 otherwise."
      ],
      "metadata": {
        "id": "VVYMk447FgB-"
      }
    },
    {
      "cell_type": "markdown",
      "source": [
        "4. Explain the ADALINE network model.\n",
        "\n",
        "Ans.ADALINE (Adaptive Linear Neuron) Network Model:\n",
        "ADALINE is a type of neural network that aims to adjust its weights to minimize the difference between its output and a desired target. It uses linear activation and an adaptive weight adjustment mechanism based on the difference between the predicted output and the target output. The network learns by iteratively adjusting weights through an adaptation rule, often using a gradient descent-like approach.\n"
      ],
      "metadata": {
        "id": "IR2IabpDFgJI"
      }
    },
    {
      "cell_type": "markdown",
      "source": [
        "5. What is the constraint of a simple perceptron? Why it may fail with a real-world data set?\n",
        "\n",
        "Ans.Constraint of a Simple Perceptron and Failure with Real-world Data:\n",
        "A simple perceptron can only learn linearly separable patterns- patterns that can be separated by a straight line or hyperplane. It cannot handle data that is not linearly separable. This limitation can cause failure when trying to classify complex data distributions that require nonlinear decision boundaries, making it unsuitable for many real-world datasets."
      ],
      "metadata": {
        "id": "2ZKTnz2xFgLg"
      }
    },
    {
      "cell_type": "markdown",
      "source": [
        "6. What is linearly inseparable problem? What is the role of the hidden layer?\n",
        "\n",
        "Ans.Linearly inseparable problems are data distributions that cannot be separated by a single straight line or hyperplane. A hidden layer in a neural network allows it to learn and represent nonlinear transformations of the input data. This enables the network to capture more complex patterns and relationships, making it capable of solving linearly inseparable problems by introducing nonlinear decision boundaries.\n"
      ],
      "metadata": {
        "id": "RZYnWr9MFgOG"
      }
    },
    {
      "cell_type": "markdown",
      "source": [],
      "metadata": {
        "id": "bXSk0V0HFgR8"
      }
    },
    {
      "cell_type": "markdown",
      "source": [
        "7. Explain XOR problem in case of a simple perceptron.\n",
        "\n",
        "Ans.The XOR problem is a classic example of a data distribution that is not linearly separable. A simple perceptron fails to solve the XOR problem because it cannot find a single linear boundary that separates the data points of different classes (0 and 1) properly. Two linear boundaries are required to correctly classify XOR data, which a single-layer perceptron cannot achieve."
      ],
      "metadata": {
        "id": "hIrFSEwWFgVK"
      }
    },
    {
      "cell_type": "markdown",
      "source": [
        "8. Design a multi-layer perceptron to implement A XOR B.\n",
        "\n",
        "Ans.To implement the XOR function using a multi-layer perceptron, you would need an input layer with 2 neurons (A and B), a hidden layer with 2 neurons, and an output layer with 1 neuron. The hidden layer's nonlinear activations enable the network to learn the XOR function's nonlinear decision boundaries."
      ],
      "metadata": {
        "id": "GM5xydTcFgXl"
      }
    },
    {
      "cell_type": "markdown",
      "source": [],
      "metadata": {
        "id": "rh9wemuWFhfu"
      }
    },
    {
      "cell_type": "markdown",
      "source": [
        "9. Explain the single-layer feed forward architecture of ANN.\n",
        "\n",
        "\n",
        "Ans.In a single-layer feedforward architecture, also known as a perceptron, inputs are connected directly to output nodes through weighted connections. Each input is multiplied by its corresponding weight, and the weighted sums are passed through an activation function to produce the output. This architecture can only solve linearly separable problems due to its lack of hidden layers."
      ],
      "metadata": {
        "id": "k2gZyBYCFhip"
      }
    },
    {
      "cell_type": "markdown",
      "source": [
        "10. Explain the competitive network architecture of ANN.\n",
        "\n",
        "Ans.A competitive network is an architecture where neurons in the network compete with each other to become activated based on the input. It's often used for clustering or selecting the \"best\" neuron to represent a certain input. The winner-takes-all mechanism is commonly employed, where the neuron with the highest activation level becomes the winner and is selected as the output."
      ],
      "metadata": {
        "id": "8625RmsyFhlF"
      }
    },
    {
      "cell_type": "markdown",
      "source": [
        "11. Consider a multi-layer feed forward neural network. Enumerate and explain steps in the\n",
        "backpropagation algorithm used to train the network.\n",
        "\n",
        "Ans.Backpropagation is a key algorithm for training multi-layer neural networks. The steps include:\n",
        "\n",
        "Forward Pass: Propagate input through the network to calculate predicted outputs.\n",
        "Calculate Loss: Compare predicted outputs to actual targets to compute the loss.\n",
        "Backward Pass: Calculate the gradient of the loss with respect to the network's weights using the chain rule.\n",
        "Update Weights: Adjust the weights in the network using an optimization algorithm (e.g., gradient descent) to minimize the loss.\n"
      ],
      "metadata": {
        "id": "j3ZWmE2HFhn1"
      }
    },
    {
      "cell_type": "markdown",
      "source": [
        "12. What are the advantages and disadvantages of neural networks?\n",
        "\n",
        "\n",
        "Ans.Advantages:\n",
        "\n",
        "Can learn complex patterns and representations.\n",
        "Generalize well to new, unseen data.\n",
        "Suitable for various tasks like classification, regression, and more.\n",
        "\n",
        "Disadvantages:\n",
        "\n",
        "Require a lot of data for training.\n",
        "Prone to overfitting if not properly regularized.\n",
        "Can be computationally intensive and require powerful hardware.\n",
        "Black-box nature makes them hard to interpret."
      ],
      "metadata": {
        "id": "-h7fO70LFhqq"
      }
    },
    {
      "cell_type": "markdown",
      "source": [
        "13. Write short notes on any two of the following:\n",
        "\n",
        "1. Biological neuron\n",
        "\n",
        "Ans.Biological Neuron: The basic building block of the brain's neural network. It consists of a cell body, dendrites (receiving inputs), an axon (output pathway), and synapses (connections with other neurons). Signals are transmitted through electrical impulses and chemical signals at synapses.\n",
        "\n",
        "2. ReLU function\n",
        "\n",
        "Ans.ReLU (Rectified Linear Unit) Function: A popular activation function that outputs the input if it's positive, and zero otherwise. It introduces nonlinearity while being computationally efficient and avoiding the vanishing gradient problem.\n",
        "\n",
        "3. Single-layer feed forward ANN\n",
        "\n",
        "Ans.Single-layer Feed Forward ANN: A type of neural network where inputs are directly connected to outputs through weighted connections. It can only solve linearly separable problems due to its lack of hidden layers.\n",
        "\n",
        "4. Gradient descent\n",
        "\n",
        "Ans.Gradient Descent: An optimization technique used to minimize the loss function during training. It involves iteratively adjusting the model's parameters (weights) in the direction of steepest descent of the loss surface, as indicated by the gradient of the loss with respect to the parameters.\n",
        "\n",
        "5. Recurrent Networks\n",
        "\n",
        "Ans.  Neural networks with connections that allow information to flow in cycles, enabling them to process sequential or time-dependent data. They have loops in their architecture, allowing them to maintain internal memory and handle sequences."
      ],
      "metadata": {
        "id": "5XgyS0FbFhtR"
      }
    },
    {
      "cell_type": "markdown",
      "source": [],
      "metadata": {
        "id": "Esffe6vTFhv2"
      }
    },
    {
      "cell_type": "markdown",
      "source": [],
      "metadata": {
        "id": "Hs2aPEcCFhyx"
      }
    },
    {
      "cell_type": "markdown",
      "source": [],
      "metadata": {
        "id": "jUm41C6iFh1K"
      }
    }
  ]
}